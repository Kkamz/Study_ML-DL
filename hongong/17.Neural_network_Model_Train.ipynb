{
  "cells": [
    {
      "cell_type": "markdown",
      "metadata": {
        "id": "pqxnslml3tu6"
      },
      "source": [
        "# 신경망 모델 훈련"
      ]
    },
    {
      "cell_type": "code",
      "execution_count": 1,
      "metadata": {
        "id": "Pvv5Ghx09JwT"
      },
      "outputs": [],
      "source": [
        "# 실행마다 동일한 결과를 얻기 위해 케라스에 랜덤 시드를 사용하고 텐서플로 연산을 결정적으로 만듭니다. \n",
        "import tensorflow as tf\n",
        "\n",
        "tf.keras.utils.set_random_seed(42)\n",
        "tf.config.experimental.enable_op_determinism()"
      ]
    },
    {
      "cell_type": "markdown",
      "metadata": {
        "id": "XGP-X65EmJBg"
      },
      "source": [
        "## 손실 곡선"
      ]
    },
    {
      "cell_type": "code",
      "execution_count": 2,
      "metadata": {
        "colab": {
          "base_uri": "https://localhost:8080/"
        },
        "id": "hZsGl9udlqZk",
        "outputId": "34c7ec52-f5d5-4cd3-e651-a80a000d5098"
      },
      "outputs": [
        {
          "output_type": "stream",
          "name": "stdout",
          "text": [
            "Downloading data from https://storage.googleapis.com/tensorflow/tf-keras-datasets/train-labels-idx1-ubyte.gz\n",
            "32768/29515 [=================================] - 0s 0us/step\n",
            "40960/29515 [=========================================] - 0s 0us/step\n",
            "Downloading data from https://storage.googleapis.com/tensorflow/tf-keras-datasets/train-images-idx3-ubyte.gz\n",
            "26427392/26421880 [==============================] - 1s 0us/step\n",
            "26435584/26421880 [==============================] - 1s 0us/step\n",
            "Downloading data from https://storage.googleapis.com/tensorflow/tf-keras-datasets/t10k-labels-idx1-ubyte.gz\n",
            "16384/5148 [===============================================================================================] - 0s 0us/step\n",
            "Downloading data from https://storage.googleapis.com/tensorflow/tf-keras-datasets/t10k-images-idx3-ubyte.gz\n",
            "4423680/4422102 [==============================] - 0s 0us/step\n",
            "4431872/4422102 [==============================] - 0s 0us/step\n"
          ]
        }
      ],
      "source": [
        "from tensorflow import keras\n",
        "from sklearn.model_selection import train_test_split\n",
        "\n",
        "(train_input, train_target), (test_input, test_target) = \\\n",
        "    keras.datasets.fashion_mnist.load_data()\n",
        "\n",
        "train_scaled = train_input / 255.0\n",
        "\n",
        "train_scaled, val_scaled, train_target, val_target = train_test_split(\n",
        "    train_scaled, train_target, test_size=0.2, random_state=42)"
      ]
    },
    {
      "cell_type": "code",
      "execution_count": 5,
      "metadata": {
        "id": "iogH7o0Ll6uL"
      },
      "outputs": [],
      "source": [
        "def model_fun(a_layer=None):\n",
        "    model = keras.Sequential()\n",
        "    model.add(keras.layers.Flatten(input_shape=(28, 28)))\n",
        "    model.add(keras.layers.Dense(100, activation='relu'))\n",
        "    if a_layer:\n",
        "        model.add(a_layer)\n",
        "    model.add(keras.layers.Dense(10, activation='softmax'))\n",
        "    return model"
      ]
    },
    {
      "cell_type": "code",
      "execution_count": 6,
      "metadata": {
        "colab": {
          "base_uri": "https://localhost:8080/"
        },
        "id": "5Eh6hM4DNdzu",
        "outputId": "9888a7ad-5c49-486e-d441-3f221afb6bfe"
      },
      "outputs": [
        {
          "output_type": "stream",
          "name": "stdout",
          "text": [
            "Model: \"sequential\"\n",
            "_________________________________________________________________\n",
            " Layer (type)                Output Shape              Param #   \n",
            "=================================================================\n",
            " flatten (Flatten)           (None, 784)               0         \n",
            "                                                                 \n",
            " dense (Dense)               (None, 100)               78500     \n",
            "                                                                 \n",
            " dense_1 (Dense)             (None, 10)                1010      \n",
            "                                                                 \n",
            "=================================================================\n",
            "Total params: 79,510\n",
            "Trainable params: 79,510\n",
            "Non-trainable params: 0\n",
            "_________________________________________________________________\n"
          ]
        }
      ],
      "source": [
        "model = model_fun()\n",
        "\n",
        "model.summary()"
      ]
    },
    {
      "cell_type": "code",
      "execution_count": 7,
      "metadata": {
        "id": "P-UK21N_mCM0"
      },
      "outputs": [],
      "source": [
        "# verbose -> 기본값은 1 / 2로하면 진행막대를 빼고 출력 / 0으로 지정하면 훈련과정을 나타내지 않음\n",
        "model.compile(loss='sparse_categorical_crossentropy', metrics='accuracy')\n",
        "\n",
        "history = model.fit(train_scaled, train_target, epochs=5, verbose=0)"
      ]
    },
    {
      "cell_type": "code",
      "source": [
        "history.history"
      ],
      "metadata": {
        "colab": {
          "base_uri": "https://localhost:8080/"
        },
        "id": "kh3vD3ciANEJ",
        "outputId": "27070f07-251c-416a-959e-f946c253cb86"
      },
      "execution_count": 10,
      "outputs": [
        {
          "output_type": "execute_result",
          "data": {
            "text/plain": [
              "{'accuracy': [0.8118958473205566,\n",
              "  0.8557708263397217,\n",
              "  0.8694375157356262,\n",
              "  0.8796250224113464,\n",
              "  0.8849583268165588],\n",
              " 'loss': [0.5311834216117859,\n",
              "  0.3947155773639679,\n",
              "  0.3589134216308594,\n",
              "  0.3360195457935333,\n",
              "  0.3160899579524994]}"
            ]
          },
          "metadata": {},
          "execution_count": 10
        }
      ]
    },
    {
      "cell_type": "code",
      "execution_count": 8,
      "metadata": {
        "colab": {
          "base_uri": "https://localhost:8080/"
        },
        "id": "1ix_EA2LpaR0",
        "outputId": "895267c6-0ddb-45aa-fc63-67e2efec1d24"
      },
      "outputs": [
        {
          "output_type": "stream",
          "name": "stdout",
          "text": [
            "dict_keys(['loss', 'accuracy'])\n"
          ]
        }
      ],
      "source": [
        "# history - 훈련 측정값 담겨 있음\n",
        "print(history.history.keys())"
      ]
    },
    {
      "cell_type": "code",
      "execution_count": 11,
      "metadata": {
        "colab": {
          "base_uri": "https://localhost:8080/",
          "height": 279
        },
        "id": "uz_TCdfPmG6e",
        "outputId": "0d39c7c9-b02b-41de-f608-5ffd26e638b5"
      },
      "outputs": [
        {
          "output_type": "display_data",
          "data": {
            "text/plain": [
              "<Figure size 432x288 with 1 Axes>"
            ],
            "image/png": "[encoded data removed]"
          },
          "metadata": {
            "needs_background": "light"
          }
        }
      ],
      "source": [
        "import matplotlib.pyplot as plt\n",
        "\n",
        "plt.plot(history.history['loss'])\n",
        "plt.xlabel('epoch')\n",
        "plt.ylabel('loss')\n",
        "plt.show()"
      ]
    },
    {
      "cell_type": "code",
      "execution_count": 12,
      "metadata": {
        "colab": {
          "base_uri": "https://localhost:8080/",
          "height": 279
        },
        "id": "CpmK9lXQcBe9",
        "outputId": "fd56bcb5-1658-46f2-eb1d-c7f0c951be2b"
      },
      "outputs": [
        {
          "output_type": "display_data",
          "data": {
            "text/plain": [
              "<Figure size 432x288 with 1 Axes>"
            ],
            "image/png": "[encoded data removed]"
          },
          "metadata": {
            "needs_background": "light"
          }
        }
      ],
      "source": [
        "plt.plot(history.history['accuracy'])\n",
        "plt.xlabel('epoch')\n",
        "plt.ylabel('accuracy')\n",
        "plt.show()"
      ]
    },
    {
      "cell_type": "code",
      "source": [
        "plot_target = [\"loss\",\"accuracy\"]\n",
        "\n",
        "plt.figure(figsize=(12,8))\n",
        "\n",
        "for each in plot_target:\n",
        "    plt.plot(history.history[each], label = each)\n",
        "plt.legend()\n",
        "plt.grid()\n",
        "plt.show()"
      ],
      "metadata": {
        "colab": {
          "base_uri": "https://localhost:8080/",
          "height": 483
        },
        "id": "abjKiCAgAVLk",
        "outputId": "bdb83ad4-c07d-496d-8d6c-59e9560e1cdc"
      },
      "execution_count": 14,
      "outputs": [
        {
          "output_type": "display_data",
          "data": {
            "text/plain": [
              "<Figure size 864x576 with 1 Axes>"
            ],
            "image/png": "[encoded data removed]"
          },
          "metadata": {
            "needs_background": "light"
          }
        }
      ]
    },
    {
      "cell_type": "code",
      "execution_count": 17,
      "metadata": {
        "id": "5cJlWITXqJWr",
        "colab": {
          "base_uri": "https://localhost:8080/"
        },
        "outputId": "b5b81cd1-c3be-449e-acb3-1c1738b3f0e4"
      },
      "outputs": [
        {
          "output_type": "stream",
          "name": "stdout",
          "text": [
            "Epoch 1/20\n",
            "1500/1500 - 3s - loss: 0.5307 - accuracy: 0.8120 - 3s/epoch - 2ms/step\n",
            "Epoch 2/20\n",
            "1500/1500 - 3s - loss: 0.3942 - accuracy: 0.8580 - 3s/epoch - 2ms/step\n",
            "Epoch 3/20\n",
            "1500/1500 - 3s - loss: 0.3541 - accuracy: 0.8722 - 3s/epoch - 2ms/step\n",
            "Epoch 4/20\n",
            "1500/1500 - 3s - loss: 0.3308 - accuracy: 0.8820 - 3s/epoch - 2ms/step\n",
            "Epoch 5/20\n",
            "1500/1500 - 3s - loss: 0.3152 - accuracy: 0.8873 - 3s/epoch - 2ms/step\n",
            "Epoch 6/20\n",
            "1500/1500 - 3s - loss: 0.3084 - accuracy: 0.8910 - 3s/epoch - 2ms/step\n",
            "Epoch 7/20\n",
            "1500/1500 - 3s - loss: 0.2956 - accuracy: 0.8955 - 3s/epoch - 2ms/step\n",
            "Epoch 8/20\n",
            "1500/1500 - 3s - loss: 0.2897 - accuracy: 0.8970 - 3s/epoch - 2ms/step\n",
            "Epoch 9/20\n",
            "1500/1500 - 3s - loss: 0.2819 - accuracy: 0.9014 - 3s/epoch - 2ms/step\n",
            "Epoch 10/20\n",
            "1500/1500 - 3s - loss: 0.2755 - accuracy: 0.9047 - 3s/epoch - 2ms/step\n",
            "Epoch 11/20\n",
            "1500/1500 - 3s - loss: 0.2689 - accuracy: 0.9063 - 3s/epoch - 2ms/step\n",
            "Epoch 12/20\n",
            "1500/1500 - 3s - loss: 0.2647 - accuracy: 0.9079 - 3s/epoch - 2ms/step\n",
            "Epoch 13/20\n",
            "1500/1500 - 3s - loss: 0.2572 - accuracy: 0.9100 - 3s/epoch - 2ms/step\n",
            "Epoch 14/20\n",
            "1500/1500 - 3s - loss: 0.2522 - accuracy: 0.9127 - 3s/epoch - 2ms/step\n",
            "Epoch 15/20\n",
            "1500/1500 - 3s - loss: 0.2471 - accuracy: 0.9147 - 3s/epoch - 2ms/step\n",
            "Epoch 16/20\n",
            "1500/1500 - 3s - loss: 0.2449 - accuracy: 0.9155 - 3s/epoch - 2ms/step\n",
            "Epoch 17/20\n",
            "1500/1500 - 3s - loss: 0.2399 - accuracy: 0.9194 - 3s/epoch - 2ms/step\n",
            "Epoch 18/20\n",
            "1500/1500 - 3s - loss: 0.2379 - accuracy: 0.9205 - 3s/epoch - 2ms/step\n",
            "Epoch 19/20\n",
            "1500/1500 - 3s - loss: 0.2338 - accuracy: 0.9212 - 3s/epoch - 2ms/step\n",
            "Epoch 20/20\n",
            "1500/1500 - 3s - loss: 0.2327 - accuracy: 0.9210 - 3s/epoch - 2ms/step\n"
          ]
        }
      ],
      "source": [
        "model = model_fun()\n",
        "model.compile(loss='sparse_categorical_crossentropy', metrics='accuracy')\n",
        "\n",
        "history = model.fit(train_scaled, train_target, epochs=20, verbose=2)"
      ]
    },
    {
      "cell_type": "code",
      "execution_count": 18,
      "metadata": {
        "colab": {
          "base_uri": "https://localhost:8080/",
          "height": 279
        },
        "id": "YT87Fjo2qKPC",
        "outputId": "d1a0edb7-d147-4d13-dbfe-71cd6e411a53"
      },
      "outputs": [
        {
          "output_type": "display_data",
          "data": {
            "text/plain": [
              "<Figure size 432x288 with 1 Axes>"
            ],
            "image/png": "[encoded data removed]"
          },
          "metadata": {
            "needs_background": "light"
          }
        }
      ],
      "source": [
        "plt.plot(history.history['loss'])\n",
        "plt.xlabel('epoch')\n",
        "plt.ylabel('loss')\n",
        "plt.show()"
      ]
    },
    {
      "cell_type": "markdown",
      "metadata": {
        "id": "bGqf6ceRr3zO"
      },
      "source": [
        "## 검증 손실\n",
        "- 과소적합과 과대적합을 확인하기 위해 검증 손실 확인"
      ]
    },
    {
      "cell_type": "code",
      "execution_count": 19,
      "metadata": {
        "id": "4_iHvMxwu2D2"
      },
      "outputs": [],
      "source": [
        "model = model_fun()\n",
        "model.compile(loss='sparse_categorical_crossentropy', metrics='accuracy')\n",
        "\n",
        "history = model.fit(train_scaled, train_target, epochs=20, verbose=0, \n",
        "                    validation_data=(val_scaled, val_target))"
      ]
    },
    {
      "cell_type": "code",
      "execution_count": 21,
      "metadata": {
        "colab": {
          "base_uri": "https://localhost:8080/"
        },
        "id": "nJ5RGEmLu5KI",
        "outputId": "dedd4bf6-d8e1-40c9-b74e-1b447d463f27"
      },
      "outputs": [
        {
          "output_type": "stream",
          "name": "stdout",
          "text": [
            "dict_keys(['loss', 'accuracy', 'val_loss', 'val_accuracy'])\n"
          ]
        }
      ],
      "source": [
        "print(history.history.keys())"
      ]
    },
    {
      "cell_type": "code",
      "execution_count": 20,
      "metadata": {
        "colab": {
          "base_uri": "https://localhost:8080/",
          "height": 279
        },
        "id": "zcpm7CpXu5vC",
        "outputId": "f1bdf8fb-f074-4e9b-fa81-e7c4e8d18335"
      },
      "outputs": [
        {
          "output_type": "display_data",
          "data": {
            "text/plain": [
              "<Figure size 432x288 with 1 Axes>"
            ],
            "image/png": "[encoded data removed]"
          },
          "metadata": {
            "needs_background": "light"
          }
        }
      ],
      "source": [
        "# 5번째 epoch부터 다시 loss값이 상승 -> 과대적합 모델\n",
        "plt.plot(history.history['loss'])\n",
        "plt.plot(history.history['val_loss'])\n",
        "plt.xlabel('epoch')\n",
        "plt.ylabel('loss')\n",
        "plt.legend(['train', 'val'])\n",
        "plt.show()"
      ]
    },
    {
      "cell_type": "code",
      "source": [
        "plot_target = [\"loss\",\"val_loss\",\"accuracy\",\"val_accuracy\"]\n",
        "\n",
        "plt.figure(figsize=(12,8))\n",
        "\n",
        "for each in plot_target:\n",
        "    plt.plot(history.history[each], label = each)\n",
        "plt.legend()\n",
        "plt.grid()\n",
        "plt.show()"
      ],
      "metadata": {
        "colab": {
          "base_uri": "https://localhost:8080/",
          "height": 483
        },
        "id": "asbvfBNOCysy",
        "outputId": "c8a37884-a465-400b-b8d8-3d87457be388"
      },
      "execution_count": 23,
      "outputs": [
        {
          "output_type": "display_data",
          "data": {
            "text/plain": [
              "<Figure size 864x576 with 1 Axes>"
            ],
            "image/png": "[encoded data removed]"
          },
          "metadata": {
            "needs_background": "light"
          }
        }
      ]
    },
    {
      "cell_type": "code",
      "execution_count": 24,
      "metadata": {
        "id": "qC8gDwo3qcJv"
      },
      "outputs": [],
      "source": [
        "# 기본이누RMSprop대신 adam을 사용하여 모델학습\n",
        "model = model_fun()\n",
        "model.compile(optimizer='adam', loss='sparse_categorical_crossentropy', \n",
        "              metrics='accuracy')\n",
        "\n",
        "history = model.fit(train_scaled, train_target, epochs=20, verbose=0, \n",
        "                    validation_data=(val_scaled, val_target))"
      ]
    },
    {
      "cell_type": "code",
      "execution_count": 26,
      "metadata": {
        "colab": {
          "base_uri": "https://localhost:8080/",
          "height": 279
        },
        "id": "k8wWnyFzsLKb",
        "outputId": "d6a3bc0b-a6b2-4f2c-9844-ea589ece5eb3"
      },
      "outputs": [
        {
          "output_type": "display_data",
          "data": {
            "text/plain": [
              "<Figure size 432x288 with 1 Axes>"
            ],
            "image/png": "[encoded data removed]"
          },
          "metadata": {
            "needs_background": "light"
          }
        }
      ],
      "source": [
        "# 대략 5번쨰 epoch 이후로도 다시 감소하는 형태 보임 그러나 여전히 요동이 남음\n",
        "plt.plot(history.history['loss'])\n",
        "plt.plot(history.history['val_loss'])\n",
        "plt.xlabel('epoch')\n",
        "plt.ylabel('loss')\n",
        "plt.legend(['train', 'val'])\n",
        "plt.show()"
      ]
    },
    {
      "cell_type": "markdown",
      "metadata": {
        "id": "F-dFY8lrYXm3"
      },
      "source": [
        "## 드롭아웃\n",
        "- 과대적합을 막을 수 있음"
      ]
    },
    {
      "cell_type": "code",
      "execution_count": 27,
      "metadata": {
        "colab": {
          "base_uri": "https://localhost:8080/"
        },
        "id": "AppFtFKgsk--",
        "outputId": "5a16cee9-9d7a-4bef-d096-97888959874c"
      },
      "outputs": [
        {
          "output_type": "stream",
          "name": "stdout",
          "text": [
            "Model: \"sequential_5\"\n",
            "_________________________________________________________________\n",
            " Layer (type)                Output Shape              Param #   \n",
            "=================================================================\n",
            " flatten_5 (Flatten)         (None, 784)               0         \n",
            "                                                                 \n",
            " dense_10 (Dense)            (None, 100)               78500     \n",
            "                                                                 \n",
            " dropout (Dropout)           (None, 100)               0         \n",
            "                                                                 \n",
            " dense_11 (Dense)            (None, 10)                1010      \n",
            "                                                                 \n",
            "=================================================================\n",
            "Total params: 79,510\n",
            "Trainable params: 79,510\n",
            "Non-trainable params: 0\n",
            "_________________________________________________________________\n"
          ]
        }
      ],
      "source": [
        "model = model_fn(keras.layers.Dropout(0.3))\n",
        "\n",
        "model.summary()"
      ]
    },
    {
      "cell_type": "code",
      "execution_count": 28,
      "metadata": {
        "id": "_TSe7oM9v1lW"
      },
      "outputs": [],
      "source": [
        "model.compile(optimizer='adam', loss='sparse_categorical_crossentropy', \n",
        "              metrics='accuracy')\n",
        "\n",
        "history = model.fit(train_scaled, train_target, epochs=20, verbose=0, \n",
        "                    validation_data=(val_scaled, val_target))"
      ]
    },
    {
      "cell_type": "code",
      "execution_count": 29,
      "metadata": {
        "colab": {
          "base_uri": "https://localhost:8080/",
          "height": 280
        },
        "id": "Rj_syB_iv30l",
        "outputId": "c0f382be-f981-481f-cede-d33c2d2b5263"
      },
      "outputs": [
        {
          "output_type": "display_data",
          "data": {
            "text/plain": [
              "<Figure size 432x288 with 1 Axes>"
            ],
            "image/png": "[encoded data removed]"
          },
          "metadata": {
            "needs_background": "light"
          }
        }
      ],
      "source": [
        "plt.plot(history.history['loss'])\n",
        "plt.plot(history.history['val_loss'])\n",
        "plt.xlabel('epoch')\n",
        "plt.ylabel('loss')\n",
        "plt.legend(['train', 'val'])\n",
        "plt.show()"
      ]
    },
    {
      "cell_type": "code",
      "source": [
        "model = model_fn(keras.layers.Dropout(0.2))\n",
        "\n",
        "model.compile(optimizer='adam', loss='sparse_categorical_crossentropy', \n",
        "              metrics='accuracy')\n",
        "\n",
        "history = model.fit(train_scaled, train_target, epochs=20, verbose=1, \n",
        "                    validation_data=(val_scaled, val_target))\n",
        "\n",
        "plt.plot(history.history['loss'])\n",
        "plt.plot(history.history['val_loss'])\n",
        "plt.xlabel('epoch')\n",
        "plt.ylabel('loss')\n",
        "plt.legend(['train', 'val'])\n",
        "plt.show()"
      ],
      "metadata": {
        "colab": {
          "base_uri": "https://localhost:8080/",
          "height": 973
        },
        "id": "67Up2CZ3EtkM",
        "outputId": "2731b8b6-915e-4ada-ceb5-ff4e522f51c7"
      },
      "execution_count": 31,
      "outputs": [
        {
          "output_type": "stream",
          "name": "stdout",
          "text": [
            "Epoch 1/20\n",
            "1500/1500 [==============================] - 5s 3ms/step - loss: 0.5706 - accuracy: 0.7992 - val_loss: 0.4306 - val_accuracy: 0.8413\n",
            "Epoch 2/20\n",
            "1500/1500 [==============================] - 4s 3ms/step - loss: 0.4218 - accuracy: 0.8462 - val_loss: 0.3888 - val_accuracy: 0.8597\n",
            "Epoch 3/20\n",
            "1500/1500 [==============================] - 4s 3ms/step - loss: 0.3855 - accuracy: 0.8601 - val_loss: 0.3599 - val_accuracy: 0.8711\n",
            "Epoch 4/20\n",
            "1500/1500 [==============================] - 4s 3ms/step - loss: 0.3660 - accuracy: 0.8662 - val_loss: 0.3510 - val_accuracy: 0.8710\n",
            "Epoch 5/20\n",
            "1500/1500 [==============================] - 4s 3ms/step - loss: 0.3462 - accuracy: 0.8724 - val_loss: 0.3552 - val_accuracy: 0.8688\n",
            "Epoch 6/20\n",
            "1500/1500 [==============================] - 4s 3ms/step - loss: 0.3315 - accuracy: 0.8780 - val_loss: 0.3343 - val_accuracy: 0.8770\n",
            "Epoch 7/20\n",
            "1500/1500 [==============================] - 4s 3ms/step - loss: 0.3226 - accuracy: 0.8793 - val_loss: 0.3196 - val_accuracy: 0.8833\n",
            "Epoch 8/20\n",
            "1500/1500 [==============================] - 4s 3ms/step - loss: 0.3117 - accuracy: 0.8850 - val_loss: 0.3204 - val_accuracy: 0.8874\n",
            "Epoch 9/20\n",
            "1500/1500 [==============================] - 4s 3ms/step - loss: 0.3044 - accuracy: 0.8866 - val_loss: 0.3212 - val_accuracy: 0.8855\n",
            "Epoch 10/20\n",
            "1500/1500 [==============================] - 4s 3ms/step - loss: 0.2972 - accuracy: 0.8903 - val_loss: 0.3248 - val_accuracy: 0.8827\n",
            "Epoch 11/20\n",
            "1500/1500 [==============================] - 4s 3ms/step - loss: 0.2905 - accuracy: 0.8936 - val_loss: 0.3241 - val_accuracy: 0.8839\n",
            "Epoch 12/20\n",
            "1500/1500 [==============================] - 4s 3ms/step - loss: 0.2853 - accuracy: 0.8942 - val_loss: 0.3217 - val_accuracy: 0.8851\n",
            "Epoch 13/20\n",
            "1500/1500 [==============================] - 4s 3ms/step - loss: 0.2789 - accuracy: 0.8956 - val_loss: 0.3278 - val_accuracy: 0.8843\n",
            "Epoch 14/20\n",
            "1500/1500 [==============================] - 4s 3ms/step - loss: 0.2749 - accuracy: 0.8980 - val_loss: 0.3219 - val_accuracy: 0.8844\n",
            "Epoch 15/20\n",
            "1500/1500 [==============================] - 4s 3ms/step - loss: 0.2702 - accuracy: 0.8992 - val_loss: 0.3111 - val_accuracy: 0.8898\n",
            "Epoch 16/20\n",
            "1500/1500 [==============================] - 4s 3ms/step - loss: 0.2639 - accuracy: 0.9006 - val_loss: 0.3143 - val_accuracy: 0.8893\n",
            "Epoch 17/20\n",
            "1500/1500 [==============================] - 4s 3ms/step - loss: 0.2605 - accuracy: 0.9022 - val_loss: 0.3237 - val_accuracy: 0.8870\n",
            "Epoch 18/20\n",
            "1500/1500 [==============================] - 4s 3ms/step - loss: 0.2557 - accuracy: 0.9033 - val_loss: 0.3225 - val_accuracy: 0.8875\n",
            "Epoch 19/20\n",
            "1500/1500 [==============================] - 4s 3ms/step - loss: 0.2522 - accuracy: 0.9047 - val_loss: 0.3264 - val_accuracy: 0.8876\n",
            "Epoch 20/20\n",
            "1500/1500 [==============================] - 4s 3ms/step - loss: 0.2500 - accuracy: 0.9059 - val_loss: 0.3201 - val_accuracy: 0.8905\n"
          ]
        },
        {
          "output_type": "display_data",
          "data": {
            "text/plain": [
              "<Figure size 432x288 with 1 Axes>"
            ],
            "image/png": "[encoded data removed]"
          },
          "metadata": {
            "needs_background": "light"
          }
        }
      ]
    },
    {
      "cell_type": "markdown",
      "source": [
        "- Drop Out 0.2보다 0.3이 성능이 더 좋음\n",
        "- 0.3에서 epoch =10이 과대적합 되지않고 손실이 가장 낮음"
      ],
      "metadata": {
        "id": "n9fbpWqYFfo9"
      }
    },
    {
      "cell_type": "markdown",
      "metadata": {
        "id": "hQi91PCQorHr"
      },
      "source": [
        "## 모델 저장과 복원"
      ]
    },
    {
      "cell_type": "code",
      "execution_count": 32,
      "metadata": {
        "id": "npsYdX3rv6Oa"
      },
      "outputs": [],
      "source": [
        "model = model_fn(keras.layers.Dropout(0.3))\n",
        "model.compile(optimizer='adam', loss='sparse_categorical_crossentropy',\n",
        "              metrics='accuracy')\n",
        "\n",
        "history = model.fit(train_scaled, train_target, epochs=10, verbose=0, \n",
        "                    validation_data=(val_scaled, val_target))"
      ]
    },
    {
      "cell_type": "code",
      "execution_count": 33,
      "metadata": {
        "id": "hWVYzt0Y2FPm"
      },
      "outputs": [],
      "source": [
        "# 훈련된 파리미터 저장\n",
        "model.save_weights('model-weights.h5')"
      ]
    },
    {
      "cell_type": "code",
      "execution_count": 34,
      "metadata": {
        "id": "NissHzcq3xbN"
      },
      "outputs": [],
      "source": [
        "# 모델구조와 파라미터 저장\n",
        "model.save('model-whole.h5')"
      ]
    },
    {
      "cell_type": "code",
      "execution_count": 35,
      "metadata": {
        "colab": {
          "base_uri": "https://localhost:8080/"
        },
        "id": "2vljkGGu3AUl",
        "outputId": "c7eb1731-b679-4523-d828-edeeed1925e3",
        "scrolled": true
      },
      "outputs": [
        {
          "output_type": "stream",
          "name": "stdout",
          "text": [
            "-rw-r--r-- 1 root root 333448 Jun  7 07:36 model-weights.h5\n",
            "-rw-r--r-- 1 root root 982664 Jun  7 07:36 model-whole.h5\n"
          ]
        }
      ],
      "source": [
        "!ls -al *.h5"
      ]
    },
    {
      "cell_type": "code",
      "execution_count": 36,
      "metadata": {
        "id": "7-t6gC5Z3GCM"
      },
      "outputs": [],
      "source": [
        "model = model_fn(keras.layers.Dropout(0.3))\n",
        "\n",
        "model.load_weights('model-weights.h5')"
      ]
    },
    {
      "cell_type": "code",
      "execution_count": 37,
      "metadata": {
        "colab": {
          "base_uri": "https://localhost:8080/"
        },
        "id": "pHV9tBnzi8St",
        "outputId": "c67f69e0-9262-487c-8288-92004760fffe"
      },
      "outputs": [
        {
          "output_type": "stream",
          "name": "stdout",
          "text": [
            "0.8819166666666667\n"
          ]
        }
      ],
      "source": [
        "import numpy as np\n",
        "\n",
        "val_labels = np.argmax(model.predict(val_scaled), axis=-1)\n",
        "print(np.mean(val_labels == val_target))"
      ]
    },
    {
      "cell_type": "code",
      "execution_count": 38,
      "metadata": {
        "colab": {
          "base_uri": "https://localhost:8080/"
        },
        "id": "sRM3Vpki4QyH",
        "outputId": "d030a028-9cf0-4088-d046-8be1d7341b7f"
      },
      "outputs": [
        {
          "output_type": "stream",
          "name": "stdout",
          "text": [
            "375/375 [==============================] - 1s 2ms/step - loss: 0.3355 - accuracy: 0.8819\n"
          ]
        },
        {
          "output_type": "execute_result",
          "data": {
            "text/plain": [
              "[0.3354865312576294, 0.8819166421890259]"
            ]
          },
          "metadata": {},
          "execution_count": 38
        }
      ],
      "source": [
        "model = keras.models.load_model('model-whole.h5')\n",
        "\n",
        "model.evaluate(val_scaled, val_target)"
      ]
    },
    {
      "cell_type": "markdown",
      "metadata": {
        "id": "4NTCF3YD3EyA"
      },
      "source": [
        "## 콜백\n",
        "- 최상의 검증 점수를 만드는 모델을 저장"
      ]
    },
    {
      "cell_type": "code",
      "execution_count": 40,
      "metadata": {
        "colab": {
          "base_uri": "https://localhost:8080/"
        },
        "id": "L2lKN_934VB4",
        "outputId": "1afab90f-18db-444d-df5d-cad6f58b34d5"
      },
      "outputs": [
        {
          "output_type": "stream",
          "name": "stdout",
          "text": [
            "Epoch 1/20\n",
            "1500/1500 [==============================] - 5s 3ms/step - loss: 0.5909 - accuracy: 0.7931 - val_loss: 0.4260 - val_accuracy: 0.8434\n",
            "Epoch 2/20\n",
            "1500/1500 [==============================] - 4s 3ms/step - loss: 0.4356 - accuracy: 0.8443 - val_loss: 0.3880 - val_accuracy: 0.8586\n",
            "Epoch 3/20\n",
            "1500/1500 [==============================] - 6s 4ms/step - loss: 0.4042 - accuracy: 0.8528 - val_loss: 0.3770 - val_accuracy: 0.8613\n",
            "Epoch 4/20\n",
            "1500/1500 [==============================] - 5s 3ms/step - loss: 0.3827 - accuracy: 0.8613 - val_loss: 0.3536 - val_accuracy: 0.8731\n",
            "Epoch 5/20\n",
            "1500/1500 [==============================] - 4s 3ms/step - loss: 0.3658 - accuracy: 0.8659 - val_loss: 0.3523 - val_accuracy: 0.8683\n",
            "Epoch 6/20\n",
            "1500/1500 [==============================] - 4s 3ms/step - loss: 0.3517 - accuracy: 0.8698 - val_loss: 0.3328 - val_accuracy: 0.8802\n",
            "Epoch 7/20\n",
            "1500/1500 [==============================] - 4s 3ms/step - loss: 0.3435 - accuracy: 0.8743 - val_loss: 0.3463 - val_accuracy: 0.8729\n",
            "Epoch 8/20\n",
            "1500/1500 [==============================] - 5s 4ms/step - loss: 0.3360 - accuracy: 0.8765 - val_loss: 0.3298 - val_accuracy: 0.8809\n",
            "Epoch 9/20\n",
            "1500/1500 [==============================] - 5s 3ms/step - loss: 0.3246 - accuracy: 0.8800 - val_loss: 0.3306 - val_accuracy: 0.8837\n",
            "Epoch 10/20\n",
            "1500/1500 [==============================] - 4s 3ms/step - loss: 0.3171 - accuracy: 0.8832 - val_loss: 0.3348 - val_accuracy: 0.8802\n",
            "Epoch 11/20\n",
            "1500/1500 [==============================] - 4s 3ms/step - loss: 0.3126 - accuracy: 0.8846 - val_loss: 0.3247 - val_accuracy: 0.8858\n",
            "Epoch 12/20\n",
            "1500/1500 [==============================] - 4s 3ms/step - loss: 0.3094 - accuracy: 0.8839 - val_loss: 0.3288 - val_accuracy: 0.8813\n",
            "Epoch 13/20\n",
            "1500/1500 [==============================] - 4s 3ms/step - loss: 0.3037 - accuracy: 0.8879 - val_loss: 0.3237 - val_accuracy: 0.8841\n",
            "Epoch 14/20\n",
            "1500/1500 [==============================] - 4s 3ms/step - loss: 0.2969 - accuracy: 0.8895 - val_loss: 0.3250 - val_accuracy: 0.8834\n",
            "Epoch 15/20\n",
            "1500/1500 [==============================] - 4s 3ms/step - loss: 0.2958 - accuracy: 0.8890 - val_loss: 0.3289 - val_accuracy: 0.8839\n",
            "Epoch 16/20\n",
            "1500/1500 [==============================] - 4s 3ms/step - loss: 0.2878 - accuracy: 0.8927 - val_loss: 0.3275 - val_accuracy: 0.8828\n",
            "Epoch 17/20\n",
            "1500/1500 [==============================] - 4s 3ms/step - loss: 0.2856 - accuracy: 0.8946 - val_loss: 0.3181 - val_accuracy: 0.8884\n",
            "Epoch 18/20\n",
            "1500/1500 [==============================] - 4s 3ms/step - loss: 0.2858 - accuracy: 0.8925 - val_loss: 0.3179 - val_accuracy: 0.8871\n",
            "Epoch 19/20\n",
            "1500/1500 [==============================] - 4s 3ms/step - loss: 0.2785 - accuracy: 0.8958 - val_loss: 0.3246 - val_accuracy: 0.8852\n",
            "Epoch 20/20\n",
            "1500/1500 [==============================] - 4s 3ms/step - loss: 0.2755 - accuracy: 0.8954 - val_loss: 0.3257 - val_accuracy: 0.8857\n"
          ]
        },
        {
          "output_type": "execute_result",
          "data": {
            "text/plain": [
              "<keras.callbacks.History at 0x7f8fda515450>"
            ]
          },
          "metadata": {},
          "execution_count": 40
        }
      ],
      "source": [
        "model = model_fn(keras.layers.Dropout(0.3))\n",
        "model.compile(optimizer='adam', loss='sparse_categorical_crossentropy', \n",
        "              metrics='accuracy')\n",
        "\n",
        "checkpoint_cb = keras.callbacks.ModelCheckpoint('best-model.h5', \n",
        "                                                save_best_only=True)\n",
        "\n",
        "model.fit(train_scaled, train_target, epochs=20, verbose=1, \n",
        "          validation_data=(val_scaled, val_target),\n",
        "          callbacks=[checkpoint_cb])"
      ]
    },
    {
      "cell_type": "code",
      "execution_count": 41,
      "metadata": {
        "colab": {
          "base_uri": "https://localhost:8080/"
        },
        "id": "qYISeH6U5oh9",
        "outputId": "27d0778c-eae9-42a4-c45b-53321d263d7b"
      },
      "outputs": [
        {
          "output_type": "stream",
          "name": "stdout",
          "text": [
            "375/375 [==============================] - 1s 2ms/step - loss: 0.3179 - accuracy: 0.8871\n"
          ]
        },
        {
          "output_type": "execute_result",
          "data": {
            "text/plain": [
              "[0.3179174065589905, 0.8870833516120911]"
            ]
          },
          "metadata": {},
          "execution_count": 41
        }
      ],
      "source": [
        "model = keras.models.load_model('best-model.h5')\n",
        "\n",
        "model.evaluate(val_scaled, val_target)"
      ]
    },
    {
      "cell_type": "code",
      "execution_count": 42,
      "metadata": {
        "id": "HLLlkR0s5Nd8"
      },
      "outputs": [],
      "source": [
        "# EarlyStopping -> 조기종료 \n",
        "model = model_fn(keras.layers.Dropout(0.3))\n",
        "model.compile(optimizer='adam', loss='sparse_categorical_crossentropy', \n",
        "              metrics='accuracy')\n",
        "\n",
        "checkpoint_cb = keras.callbacks.ModelCheckpoint('best-model.h5', \n",
        "                                                save_best_only=True)\n",
        "early_stopping_cb = keras.callbacks.EarlyStopping(patience=2,\n",
        "                                                  restore_best_weights=True)\n",
        "\n",
        "history = model.fit(train_scaled, train_target, epochs=20, verbose=0, \n",
        "                    validation_data=(val_scaled, val_target),\n",
        "                    callbacks=[checkpoint_cb, early_stopping_cb])"
      ]
    },
    {
      "cell_type": "code",
      "execution_count": 43,
      "metadata": {
        "colab": {
          "base_uri": "https://localhost:8080/"
        },
        "id": "b6TazMcDxqXD",
        "outputId": "8a194db8-df40-4ce7-8627-10bb5ec50f83"
      },
      "outputs": [
        {
          "output_type": "stream",
          "name": "stdout",
          "text": [
            "9\n"
          ]
        }
      ],
      "source": [
        "# 10번째 epoch에서 훈련 중지 -> patience=1 이므로 8번째가 최상의 epoch\n",
        "print(early_stopping_cb.stopped_epoch)"
      ]
    },
    {
      "cell_type": "code",
      "execution_count": 44,
      "metadata": {
        "colab": {
          "base_uri": "https://localhost:8080/",
          "height": 279
        },
        "id": "QrUNYGPB6Kq7",
        "outputId": "0ade0e1d-d79e-459d-ae3f-6b52de936284"
      },
      "outputs": [
        {
          "output_type": "display_data",
          "data": {
            "text/plain": [
              "<Figure size 432x288 with 1 Axes>"
            ],
            "image/png": "[encoded data removed]"
          },
          "metadata": {
            "needs_background": "light"
          }
        }
      ],
      "source": [
        "plt.plot(history.history['loss'])\n",
        "plt.plot(history.history['val_loss'])\n",
        "plt.xlabel('epoch')\n",
        "plt.ylabel('loss')\n",
        "plt.legend(['train', 'val'])\n",
        "plt.show()"
      ]
    },
    {
      "cell_type": "code",
      "execution_count": 45,
      "metadata": {
        "colab": {
          "base_uri": "https://localhost:8080/"
        },
        "id": "H-7y1qlg5yqO",
        "outputId": "39884b39-4ce1-4e37-8ea7-fbe086d3e522"
      },
      "outputs": [
        {
          "output_type": "stream",
          "name": "stdout",
          "text": [
            "375/375 [==============================] - 1s 2ms/step - loss: 0.3291 - accuracy: 0.8832\n"
          ]
        },
        {
          "output_type": "execute_result",
          "data": {
            "text/plain": [
              "[0.3291053771972656, 0.8831666707992554]"
            ]
          },
          "metadata": {},
          "execution_count": 45
        }
      ],
      "source": [
        "model.evaluate(val_scaled, val_target)"
      ]
    },
    {
      "cell_type": "code",
      "source": [
        ""
      ],
      "metadata": {
        "id": "qk2_KTEKIq3Q"
      },
      "execution_count": null,
      "outputs": []
    }
  ],
  "metadata": {
    "accelerator": "GPU",
    "colab": {
      "collapsed_sections": [],
      "name": "17.Neural network Model Train.ipynb",
      "provenance": []
    },
    "kernelspec": {
      "display_name": "default:Python",
      "language": "python",
      "name": "conda-env-default-py"
    },
    "language_info": {
      "codemirror_mode": {
        "name": "ipython",
        "version": 3
      },
      "file_extension": ".py",
      "mimetype": "text/x-python",
      "name": "python",
      "nbconvert_exporter": "python",
      "pygments_lexer": "ipython3",
      "version": "3.9.10"
    }
  },
  "nbformat": 4,
  "nbformat_minor": 0
}