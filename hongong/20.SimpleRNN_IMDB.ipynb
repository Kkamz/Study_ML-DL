{
  "cells": [
    {
      "cell_type": "markdown",
      "metadata": {
        "id": "MusV5YYT6kQF"
      },
      "source": [
        "# 순환 신경망으로 IMDB 리뷰 분류하기"
      ]
    },
    {
      "cell_type": "code",
      "execution_count": 1,
      "metadata": {
        "id": "avxqLzUGd0tj"
      },
      "outputs": [],
      "source": [
        "import tensorflow as tf"
      ]
    },
    {
      "cell_type": "markdown",
      "metadata": {
        "id": "S1A-DDIQ6kQQ"
      },
      "source": [
        "## IMDB 리뷰 데이터셋"
      ]
    },
    {
      "cell_type": "code",
      "execution_count": 2,
      "metadata": {
        "colab": {
          "base_uri": "https://localhost:8080/"
        },
        "id": "sZoZm1ZO6kQR",
        "outputId": "ae3d530f-6ee3-44b6-ba1a-3e4200379431"
      },
      "outputs": [
        {
          "output_type": "stream",
          "name": "stdout",
          "text": [
            "Downloading data from https://storage.googleapis.com/tensorflow/tf-keras-datasets/imdb.npz\n",
            "17465344/17464789 [==============================] - 0s 0us/step\n",
            "17473536/17464789 [==============================] - 0s 0us/step\n"
          ]
        }
      ],
      "source": [
        "from tensorflow.keras.datasets import imdb\n",
        "\n",
        "(train_input, train_target), (test_input, test_target) = imdb.load_data(\n",
        "    num_words=500)"
      ]
    },
    {
      "cell_type": "code",
      "execution_count": 3,
      "metadata": {
        "colab": {
          "base_uri": "https://localhost:8080/"
        },
        "id": "HTFjz6k06kQR",
        "outputId": "d41ba9d1-eb1d-4e32-823f-57a7e1c2ce21"
      },
      "outputs": [
        {
          "output_type": "stream",
          "name": "stdout",
          "text": [
            "(25000,) (25000,)\n"
          ]
        }
      ],
      "source": [
        "print(train_input.shape, test_input.shape)"
      ]
    },
    {
      "cell_type": "code",
      "execution_count": 4,
      "metadata": {
        "colab": {
          "base_uri": "https://localhost:8080/"
        },
        "id": "4jMLURzw6kQS",
        "outputId": "bf1df8d7-86a1-4a90-879c-6f428a3b1837"
      },
      "outputs": [
        {
          "output_type": "stream",
          "name": "stdout",
          "text": [
            "218\n"
          ]
        }
      ],
      "source": [
        "print(len(train_input[0]))"
      ]
    },
    {
      "cell_type": "code",
      "execution_count": 5,
      "metadata": {
        "colab": {
          "base_uri": "https://localhost:8080/"
        },
        "id": "xdO834PL6kQT",
        "outputId": "d600f788-150b-41a2-9e2c-f2c67e399364"
      },
      "outputs": [
        {
          "output_type": "stream",
          "name": "stdout",
          "text": [
            "189\n"
          ]
        }
      ],
      "source": [
        "print(len(train_input[1]))"
      ]
    },
    {
      "cell_type": "code",
      "execution_count": 6,
      "metadata": {
        "colab": {
          "base_uri": "https://localhost:8080/"
        },
        "id": "QNuzGQ2c6kQT",
        "outputId": "dff8ba7f-d7d9-4214-c4e8-686368d7d250"
      },
      "outputs": [
        {
          "output_type": "stream",
          "name": "stdout",
          "text": [
            "[1, 14, 22, 16, 43, 2, 2, 2, 2, 65, 458, 2, 66, 2, 4, 173, 36, 256, 5, 25, 100, 43, 2, 112, 50, 2, 2, 9, 35, 480, 284, 5, 150, 4, 172, 112, 167, 2, 336, 385, 39, 4, 172, 2, 2, 17, 2, 38, 13, 447, 4, 192, 50, 16, 6, 147, 2, 19, 14, 22, 4, 2, 2, 469, 4, 22, 71, 87, 12, 16, 43, 2, 38, 76, 15, 13, 2, 4, 22, 17, 2, 17, 12, 16, 2, 18, 2, 5, 62, 386, 12, 8, 316, 8, 106, 5, 4, 2, 2, 16, 480, 66, 2, 33, 4, 130, 12, 16, 38, 2, 5, 25, 124, 51, 36, 135, 48, 25, 2, 33, 6, 22, 12, 215, 28, 77, 52, 5, 14, 407, 16, 82, 2, 8, 4, 107, 117, 2, 15, 256, 4, 2, 7, 2, 5, 2, 36, 71, 43, 2, 476, 26, 400, 317, 46, 7, 4, 2, 2, 13, 104, 88, 4, 381, 15, 297, 98, 32, 2, 56, 26, 141, 6, 194, 2, 18, 4, 226, 22, 21, 134, 476, 26, 480, 5, 144, 30, 2, 18, 51, 36, 28, 224, 92, 25, 104, 4, 226, 65, 16, 38, 2, 88, 12, 16, 283, 5, 16, 2, 113, 103, 32, 15, 16, 2, 19, 178, 32]\n"
          ]
        }
      ],
      "source": [
        "print(train_input[0])"
      ]
    },
    {
      "cell_type": "code",
      "execution_count": 7,
      "metadata": {
        "colab": {
          "base_uri": "https://localhost:8080/"
        },
        "id": "In8Qzltz6kQT",
        "outputId": "5e743af3-196d-4171-98ff-95c95497d6df"
      },
      "outputs": [
        {
          "output_type": "stream",
          "name": "stdout",
          "text": [
            "[1 0 0 1 0 0 1 0 1 0 1 0 0 0 0 0 1 1 0 1]\n"
          ]
        }
      ],
      "source": [
        "# target -> 긍부정 판단\n",
        "print(train_target[:20])"
      ]
    },
    {
      "cell_type": "code",
      "execution_count": 8,
      "metadata": {
        "id": "0-zjNgBw6kQU"
      },
      "outputs": [],
      "source": [
        "from sklearn.model_selection import train_test_split\n",
        "\n",
        "train_input, val_input, train_target, val_target = train_test_split(\n",
        "    train_input, train_target, test_size=0.2, random_state=42)"
      ]
    },
    {
      "cell_type": "code",
      "execution_count": 9,
      "metadata": {
        "id": "sRVvgntx6kQU"
      },
      "outputs": [],
      "source": [
        "import numpy as np\n",
        "\n",
        "lengths = np.array([len(x) for x in train_input])"
      ]
    },
    {
      "cell_type": "code",
      "execution_count": 10,
      "metadata": {
        "colab": {
          "base_uri": "https://localhost:8080/"
        },
        "id": "p76m_61w6kQU",
        "outputId": "d097c990-ba75-4a4f-c5e2-c4e709d04f03"
      },
      "outputs": [
        {
          "output_type": "stream",
          "name": "stdout",
          "text": [
            "239.00925 178.0\n"
          ]
        }
      ],
      "source": [
        "print(np.mean(lengths), np.median(lengths))"
      ]
    },
    {
      "cell_type": "code",
      "execution_count": 11,
      "metadata": {
        "colab": {
          "base_uri": "https://localhost:8080/",
          "height": 279
        },
        "id": "TVDrsRYF6kQV",
        "outputId": "8987a5b3-387f-4863-a223-0806f723cf7a"
      },
      "outputs": [
        {
          "output_type": "display_data",
          "data": {
            "text/plain": [
              "<Figure size 432x288 with 1 Axes>"
            ],
            "image/png": "[encoded data removed]"
          },
          "metadata": {
            "needs_background": "light"
          }
        }
      ],
      "source": [
        "import matplotlib.pyplot as plt\n",
        "\n",
        "plt.hist(lengths)\n",
        "plt.xlabel('length')\n",
        "plt.ylabel('frequency')\n",
        "plt.show()"
      ]
    },
    {
      "cell_type": "code",
      "execution_count": 12,
      "metadata": {
        "id": "fbLSFToP6kQV"
      },
      "outputs": [],
      "source": [
        "# 시퀀스 길이를 100으로 통일\n",
        "from tensorflow.keras.preprocessing.sequence import pad_sequences\n",
        "\n",
        "train_seq = pad_sequences(train_input, maxlen=100)"
      ]
    },
    {
      "cell_type": "code",
      "execution_count": 13,
      "metadata": {
        "colab": {
          "base_uri": "https://localhost:8080/"
        },
        "id": "3c86x0Yj6kQV",
        "outputId": "80a36a88-ac83-46f3-a145-9bd40cb1cd32"
      },
      "outputs": [
        {
          "output_type": "stream",
          "name": "stdout",
          "text": [
            "(20000, 100)\n"
          ]
        }
      ],
      "source": [
        "print(train_seq.shape)"
      ]
    },
    {
      "cell_type": "code",
      "execution_count": 14,
      "metadata": {
        "colab": {
          "base_uri": "https://localhost:8080/"
        },
        "id": "JuP0QJaU6kQW",
        "outputId": "7b24dd92-42b9-4a70-d5e4-fc52c20dad10"
      },
      "outputs": [
        {
          "output_type": "stream",
          "name": "stdout",
          "text": [
            "[ 10   4  20   9   2 364 352   5  45   6   2   2  33 269   8   2 142   2\n",
            "   5   2  17  73  17 204   5   2  19  55   2   2  92  66 104  14  20  93\n",
            "  76   2 151  33   4  58  12 188   2 151  12 215  69 224 142  73 237   6\n",
            "   2   7   2   2 188   2 103  14  31  10  10 451   7   2   5   2  80  91\n",
            "   2  30   2  34  14  20 151  50  26 131  49   2  84  46  50  37  80  79\n",
            "   6   2  46   7  14  20  10  10 470 158]\n"
          ]
        }
      ],
      "source": [
        "print(train_seq[0])"
      ]
    },
    {
      "cell_type": "code",
      "execution_count": 15,
      "metadata": {
        "colab": {
          "base_uri": "https://localhost:8080/"
        },
        "id": "6t8kaDji6kQW",
        "outputId": "0f31f37b-e16d-4617-e213-408b3f5cc78f"
      },
      "outputs": [
        {
          "output_type": "stream",
          "name": "stdout",
          "text": [
            "[6, 2, 46, 7, 14, 20, 10, 10, 470, 158]\n"
          ]
        }
      ],
      "source": [
        "print(train_input[0][-10:])"
      ]
    },
    {
      "cell_type": "code",
      "execution_count": 16,
      "metadata": {
        "colab": {
          "base_uri": "https://localhost:8080/"
        },
        "id": "Emmoztwa6kQX",
        "outputId": "66bc2154-6522-4b46-8ce6-cf9b08328b8e",
        "scrolled": true
      },
      "outputs": [
        {
          "output_type": "stream",
          "name": "stdout",
          "text": [
            "[  0   0   0   0   1   2 195  19  49   2   2 190   4   2 352   2 183  10\n",
            "  10  13  82  79   4   2  36  71 269   8   2  25  19  49   7   4   2   2\n",
            "   2   2   2  10  10  48  25  40   2  11   2   2  40   2   2   5   4   2\n",
            "   2  95  14 238  56 129   2  10  10  21   2  94 364 352   2   2  11 190\n",
            "  24 484   2   7  94 205 405  10  10  87   2  34  49   2   7   2   2   2\n",
            "   2   2 290   2  46  48  64  18   4   2]\n"
          ]
        }
      ],
      "source": [
        "print(train_seq[5])"
      ]
    },
    {
      "cell_type": "code",
      "execution_count": 17,
      "metadata": {
        "id": "ZeFmsjOd6kQX"
      },
      "outputs": [],
      "source": [
        "val_seq = pad_sequences(val_input, maxlen=100)"
      ]
    },
    {
      "cell_type": "markdown",
      "metadata": {
        "id": "9xab0nu_6kQX"
      },
      "source": [
        "## 순환 신경망 만들기"
      ]
    },
    {
      "cell_type": "code",
      "execution_count": 18,
      "metadata": {
        "id": "45BtHGKX6kQX"
      },
      "outputs": [],
      "source": [
        "from tensorflow import keras\n",
        "\n",
        "model = keras.Sequential()\n",
        "\n",
        "model.add(keras.layers.SimpleRNN(8, input_shape=(100, 500)))\n",
        "model.add(keras.layers.Dense(1, activation='sigmoid'))"
      ]
    },
    {
      "cell_type": "code",
      "execution_count": 19,
      "metadata": {
        "id": "oXIWyOuw6kQY"
      },
      "outputs": [],
      "source": [
        "# 원핫인코딩으로 변환하여 출력\n",
        "train_oh = keras.utils.to_categorical(train_seq)"
      ]
    },
    {
      "cell_type": "code",
      "execution_count": 20,
      "metadata": {
        "colab": {
          "base_uri": "https://localhost:8080/"
        },
        "id": "VD94WiRT6kQY",
        "outputId": "af01a460-267f-4774-eaca-34c8d4966479"
      },
      "outputs": [
        {
          "output_type": "stream",
          "name": "stdout",
          "text": [
            "(20000, 100, 500)\n"
          ]
        }
      ],
      "source": [
        "# 500개의 차원의 배열로 변경되기 때문에 model에 100,500을 적용\n",
        "print(train_oh.shape)"
      ]
    },
    {
      "cell_type": "code",
      "execution_count": 21,
      "metadata": {
        "colab": {
          "base_uri": "https://localhost:8080/"
        },
        "id": "VIVSHwJg6kQY",
        "outputId": "46f38d8f-673b-4346-e477-1793f0edcbe1"
      },
      "outputs": [
        {
          "output_type": "stream",
          "name": "stdout",
          "text": [
            "[0. 0. 0. 0. 0. 0. 0. 0. 0. 0. 1. 0.]\n"
          ]
        }
      ],
      "source": [
        "print(train_oh[0][0][:12])"
      ]
    },
    {
      "cell_type": "code",
      "execution_count": 22,
      "metadata": {
        "colab": {
          "base_uri": "https://localhost:8080/"
        },
        "id": "CP3ivii46kQZ",
        "outputId": "0d5027e9-c8f5-4038-8fbf-39efbe9e8f89"
      },
      "outputs": [
        {
          "output_type": "stream",
          "name": "stdout",
          "text": [
            "1.0\n"
          ]
        }
      ],
      "source": [
        "print(np.sum(train_oh[0][0]))"
      ]
    },
    {
      "cell_type": "code",
      "execution_count": 23,
      "metadata": {
        "id": "vgijH6m26kQZ"
      },
      "outputs": [],
      "source": [
        "val_oh = keras.utils.to_categorical(val_seq)"
      ]
    },
    {
      "cell_type": "code",
      "execution_count": 24,
      "metadata": {
        "colab": {
          "base_uri": "https://localhost:8080/"
        },
        "id": "0V0Svpuf6kQZ",
        "outputId": "8b2c1ae4-21d5-494c-ad54-8f8408caa4f5"
      },
      "outputs": [
        {
          "output_type": "stream",
          "name": "stdout",
          "text": [
            "Model: \"sequential\"\n",
            "_________________________________________________________________\n",
            " Layer (type)                Output Shape              Param #   \n",
            "=================================================================\n",
            " simple_rnn (SimpleRNN)      (None, 8)                 4072      \n",
            "                                                                 \n",
            " dense (Dense)               (None, 1)                 9         \n",
            "                                                                 \n",
            "=================================================================\n",
            "Total params: 4,081\n",
            "Trainable params: 4,081\n",
            "Non-trainable params: 0\n",
            "_________________________________________________________________\n"
          ]
        }
      ],
      "source": [
        "# 8*500 + 8*8 + 8 = 4072\n",
        "model.summary()"
      ]
    },
    {
      "cell_type": "markdown",
      "metadata": {
        "id": "S22Hc-7L6kQZ"
      },
      "source": [
        "## 순환 신경망 훈련하기"
      ]
    },
    {
      "cell_type": "code",
      "execution_count": 25,
      "metadata": {
        "colab": {
          "base_uri": "https://localhost:8080/"
        },
        "id": "YcwM299t6kQZ",
        "outputId": "f45d3df7-aa87-45ee-9061-9472e4c4d117"
      },
      "outputs": [
        {
          "output_type": "stream",
          "name": "stdout",
          "text": [
            "Epoch 1/100\n",
            "313/313 [==============================] - 15s 41ms/step - loss: 0.6981 - accuracy: 0.5051 - val_loss: 0.6914 - val_accuracy: 0.5194\n",
            "Epoch 2/100\n",
            "313/313 [==============================] - 13s 41ms/step - loss: 0.6864 - accuracy: 0.5447 - val_loss: 0.6743 - val_accuracy: 0.5848\n",
            "Epoch 3/100\n",
            "313/313 [==============================] - 13s 40ms/step - loss: 0.6509 - accuracy: 0.6292 - val_loss: 0.6429 - val_accuracy: 0.6342\n",
            "Epoch 4/100\n",
            "313/313 [==============================] - 13s 43ms/step - loss: 0.6211 - accuracy: 0.6751 - val_loss: 0.6162 - val_accuracy: 0.6782\n",
            "Epoch 5/100\n",
            "313/313 [==============================] - 15s 47ms/step - loss: 0.5970 - accuracy: 0.7023 - val_loss: 0.5953 - val_accuracy: 0.6942\n",
            "Epoch 6/100\n",
            "313/313 [==============================] - 13s 40ms/step - loss: 0.5763 - accuracy: 0.7236 - val_loss: 0.5763 - val_accuracy: 0.7196\n",
            "Epoch 7/100\n",
            "313/313 [==============================] - 23s 72ms/step - loss: 0.5579 - accuracy: 0.7384 - val_loss: 0.5630 - val_accuracy: 0.7286\n",
            "Epoch 8/100\n",
            "313/313 [==============================] - 22s 72ms/step - loss: 0.5400 - accuracy: 0.7520 - val_loss: 0.5457 - val_accuracy: 0.7428\n",
            "Epoch 9/100\n",
            "313/313 [==============================] - 14s 44ms/step - loss: 0.5247 - accuracy: 0.7613 - val_loss: 0.5308 - val_accuracy: 0.7554\n",
            "Epoch 10/100\n",
            "313/313 [==============================] - 13s 40ms/step - loss: 0.5111 - accuracy: 0.7698 - val_loss: 0.5183 - val_accuracy: 0.7598\n",
            "Epoch 11/100\n",
            "313/313 [==============================] - 13s 40ms/step - loss: 0.4998 - accuracy: 0.7763 - val_loss: 0.5083 - val_accuracy: 0.7666\n",
            "Epoch 12/100\n",
            "313/313 [==============================] - 13s 40ms/step - loss: 0.4894 - accuracy: 0.7825 - val_loss: 0.4995 - val_accuracy: 0.7732\n",
            "Epoch 13/100\n",
            "313/313 [==============================] - 13s 41ms/step - loss: 0.4802 - accuracy: 0.7859 - val_loss: 0.4941 - val_accuracy: 0.7716\n",
            "Epoch 14/100\n",
            "313/313 [==============================] - 13s 41ms/step - loss: 0.4726 - accuracy: 0.7904 - val_loss: 0.4847 - val_accuracy: 0.7764\n",
            "Epoch 15/100\n",
            "313/313 [==============================] - 13s 42ms/step - loss: 0.4660 - accuracy: 0.7916 - val_loss: 0.4790 - val_accuracy: 0.7806\n",
            "Epoch 16/100\n",
            "313/313 [==============================] - 12s 40ms/step - loss: 0.4594 - accuracy: 0.7954 - val_loss: 0.4792 - val_accuracy: 0.7764\n",
            "Epoch 17/100\n",
            "313/313 [==============================] - 12s 40ms/step - loss: 0.4539 - accuracy: 0.7996 - val_loss: 0.4709 - val_accuracy: 0.7830\n",
            "Epoch 18/100\n",
            "313/313 [==============================] - 14s 43ms/step - loss: 0.4493 - accuracy: 0.7998 - val_loss: 0.4650 - val_accuracy: 0.7844\n",
            "Epoch 19/100\n",
            "313/313 [==============================] - 12s 40ms/step - loss: 0.4449 - accuracy: 0.8016 - val_loss: 0.4615 - val_accuracy: 0.7862\n",
            "Epoch 20/100\n",
            "313/313 [==============================] - 13s 40ms/step - loss: 0.4409 - accuracy: 0.8036 - val_loss: 0.4662 - val_accuracy: 0.7820\n",
            "Epoch 21/100\n",
            "313/313 [==============================] - 12s 40ms/step - loss: 0.4375 - accuracy: 0.8057 - val_loss: 0.4567 - val_accuracy: 0.7900\n",
            "Epoch 22/100\n",
            "313/313 [==============================] - 12s 40ms/step - loss: 0.4341 - accuracy: 0.8063 - val_loss: 0.4549 - val_accuracy: 0.7898\n",
            "Epoch 23/100\n",
            "313/313 [==============================] - 13s 41ms/step - loss: 0.4313 - accuracy: 0.8069 - val_loss: 0.4530 - val_accuracy: 0.7912\n",
            "Epoch 24/100\n",
            "313/313 [==============================] - 12s 40ms/step - loss: 0.4290 - accuracy: 0.8077 - val_loss: 0.4517 - val_accuracy: 0.7890\n",
            "Epoch 25/100\n",
            "313/313 [==============================] - 13s 40ms/step - loss: 0.4262 - accuracy: 0.8097 - val_loss: 0.4501 - val_accuracy: 0.7916\n",
            "Epoch 26/100\n",
            "313/313 [==============================] - 13s 41ms/step - loss: 0.4242 - accuracy: 0.8106 - val_loss: 0.4620 - val_accuracy: 0.7826\n",
            "Epoch 27/100\n",
            "313/313 [==============================] - 13s 40ms/step - loss: 0.4227 - accuracy: 0.8115 - val_loss: 0.4503 - val_accuracy: 0.7898\n",
            "Epoch 28/100\n",
            "313/313 [==============================] - 13s 40ms/step - loss: 0.4202 - accuracy: 0.8131 - val_loss: 0.4500 - val_accuracy: 0.7900\n",
            "Epoch 29/100\n",
            "313/313 [==============================] - 13s 41ms/step - loss: 0.4188 - accuracy: 0.8142 - val_loss: 0.4503 - val_accuracy: 0.7892\n",
            "Epoch 30/100\n",
            "313/313 [==============================] - 13s 41ms/step - loss: 0.4174 - accuracy: 0.8138 - val_loss: 0.4507 - val_accuracy: 0.7914\n",
            "Epoch 31/100\n",
            "313/313 [==============================] - 13s 41ms/step - loss: 0.4163 - accuracy: 0.8151 - val_loss: 0.4471 - val_accuracy: 0.7952\n",
            "Epoch 32/100\n",
            "313/313 [==============================] - 13s 40ms/step - loss: 0.4147 - accuracy: 0.8158 - val_loss: 0.4483 - val_accuracy: 0.7906\n",
            "Epoch 33/100\n",
            "313/313 [==============================] - 13s 40ms/step - loss: 0.4135 - accuracy: 0.8157 - val_loss: 0.4466 - val_accuracy: 0.7932\n",
            "Epoch 34/100\n",
            "313/313 [==============================] - 13s 40ms/step - loss: 0.4124 - accuracy: 0.8167 - val_loss: 0.4505 - val_accuracy: 0.7896\n",
            "Epoch 35/100\n",
            "313/313 [==============================] - 13s 40ms/step - loss: 0.4118 - accuracy: 0.8174 - val_loss: 0.4467 - val_accuracy: 0.7938\n",
            "Epoch 36/100\n",
            "313/313 [==============================] - 13s 40ms/step - loss: 0.4107 - accuracy: 0.8184 - val_loss: 0.4480 - val_accuracy: 0.7938\n"
          ]
        }
      ],
      "source": [
        "rmsprop = keras.optimizers.RMSprop(learning_rate=0.0001)\n",
        "model.compile(optimizer=rmsprop, loss='binary_crossentropy', \n",
        "              metrics=['accuracy'])\n",
        "\n",
        "checkpoint_cb = keras.callbacks.ModelCheckpoint('best-simplernn-model.h5', \n",
        "                                                save_best_only=True)\n",
        "early_stopping_cb = keras.callbacks.EarlyStopping(patience=3,\n",
        "                                                  restore_best_weights=True)\n",
        "\n",
        "history = model.fit(train_oh, train_target, epochs=100, batch_size=64,\n",
        "                    validation_data=(val_oh, val_target),\n",
        "                    callbacks=[checkpoint_cb, early_stopping_cb])"
      ]
    },
    {
      "cell_type": "code",
      "execution_count": 26,
      "metadata": {
        "colab": {
          "base_uri": "https://localhost:8080/",
          "height": 279
        },
        "id": "YS_5tIG26kQa",
        "outputId": "8b53a34a-2932-43fa-d90b-e9d7660635e2"
      },
      "outputs": [
        {
          "output_type": "display_data",
          "data": {
            "text/plain": [
              "<Figure size 432x288 with 1 Axes>"
            ],
            "image/png": "[encoded data removed]"
          },
          "metadata": {
            "needs_background": "light"
          }
        }
      ],
      "source": [
        "plt.plot(history.history['loss'])\n",
        "plt.plot(history.history['val_loss'])\n",
        "plt.xlabel('epoch')\n",
        "plt.ylabel('loss')\n",
        "plt.legend(['train', 'val'])\n",
        "plt.show()"
      ]
    },
    {
      "cell_type": "code",
      "source": [
        "print(train_seq.nbytes,train_oh.nbytes)"
      ],
      "metadata": {
        "colab": {
          "base_uri": "https://localhost:8080/"
        },
        "id": "eJZCevT5gttU",
        "outputId": "69414133-a0ce-492f-f525-0cc4b98fa70c"
      },
      "execution_count": 27,
      "outputs": [
        {
          "output_type": "stream",
          "name": "stdout",
          "text": [
            "8000000 4000000000\n"
          ]
        }
      ]
    },
    {
      "cell_type": "markdown",
      "metadata": {
        "id": "K_U_lVie6kQa"
      },
      "source": [
        "## 단어 임베딩을 사용하기"
      ]
    },
    {
      "cell_type": "code",
      "execution_count": 28,
      "metadata": {
        "colab": {
          "base_uri": "https://localhost:8080/"
        },
        "id": "Ofl-Ifev6kQa",
        "outputId": "321f4597-3566-4bd2-d3c8-6b06138c47af"
      },
      "outputs": [
        {
          "output_type": "stream",
          "name": "stdout",
          "text": [
            "Model: \"sequential_1\"\n",
            "_________________________________________________________________\n",
            " Layer (type)                Output Shape              Param #   \n",
            "=================================================================\n",
            " embedding (Embedding)       (None, 100, 16)           8000      \n",
            "                                                                 \n",
            " simple_rnn_1 (SimpleRNN)    (None, 8)                 200       \n",
            "                                                                 \n",
            " dense_1 (Dense)             (None, 1)                 9         \n",
            "                                                                 \n",
            "=================================================================\n",
            "Total params: 8,209\n",
            "Trainable params: 8,209\n",
            "Non-trainable params: 0\n",
            "_________________________________________________________________\n"
          ]
        }
      ],
      "source": [
        "model2 = keras.Sequential()\n",
        "\n",
        "model2.add(keras.layers.Embedding(500, 16, input_length=100))\n",
        "model2.add(keras.layers.SimpleRNN(8))\n",
        "model2.add(keras.layers.Dense(1, activation='sigmoid'))\n",
        "\n",
        "model2.summary()"
      ]
    },
    {
      "cell_type": "code",
      "execution_count": 29,
      "metadata": {
        "colab": {
          "base_uri": "https://localhost:8080/"
        },
        "id": "78TUrJAs6kQa",
        "outputId": "7cbfe75f-1fd7-4c4e-d24e-39ac99e6a177"
      },
      "outputs": [
        {
          "output_type": "stream",
          "name": "stdout",
          "text": [
            "Epoch 1/100\n",
            "313/313 [==============================] - 12s 33ms/step - loss: 0.6983 - accuracy: 0.4949 - val_loss: 0.6943 - val_accuracy: 0.5144\n",
            "Epoch 2/100\n",
            "313/313 [==============================] - 7s 23ms/step - loss: 0.6917 - accuracy: 0.5216 - val_loss: 0.6912 - val_accuracy: 0.5226\n",
            "Epoch 3/100\n",
            "313/313 [==============================] - 7s 23ms/step - loss: 0.6867 - accuracy: 0.5480 - val_loss: 0.6887 - val_accuracy: 0.5362\n",
            "Epoch 4/100\n",
            "313/313 [==============================] - 7s 23ms/step - loss: 0.6818 - accuracy: 0.5669 - val_loss: 0.6862 - val_accuracy: 0.5422\n",
            "Epoch 5/100\n",
            "313/313 [==============================] - 7s 23ms/step - loss: 0.6763 - accuracy: 0.5829 - val_loss: 0.6829 - val_accuracy: 0.5506\n",
            "Epoch 6/100\n",
            "313/313 [==============================] - 7s 23ms/step - loss: 0.6700 - accuracy: 0.6019 - val_loss: 0.6789 - val_accuracy: 0.5606\n",
            "Epoch 7/100\n",
            "313/313 [==============================] - 7s 23ms/step - loss: 0.6624 - accuracy: 0.6209 - val_loss: 0.6736 - val_accuracy: 0.5786\n",
            "Epoch 8/100\n",
            "313/313 [==============================] - 7s 23ms/step - loss: 0.6532 - accuracy: 0.6421 - val_loss: 0.6639 - val_accuracy: 0.6106\n",
            "Epoch 9/100\n",
            "313/313 [==============================] - 7s 23ms/step - loss: 0.6420 - accuracy: 0.6611 - val_loss: 0.6530 - val_accuracy: 0.6294\n",
            "Epoch 10/100\n",
            "313/313 [==============================] - 7s 23ms/step - loss: 0.6295 - accuracy: 0.6771 - val_loss: 0.6443 - val_accuracy: 0.6414\n",
            "Epoch 11/100\n",
            "313/313 [==============================] - 7s 23ms/step - loss: 0.6164 - accuracy: 0.6886 - val_loss: 0.6315 - val_accuracy: 0.6530\n",
            "Epoch 12/100\n",
            "313/313 [==============================] - 7s 23ms/step - loss: 0.6043 - accuracy: 0.6946 - val_loss: 0.6226 - val_accuracy: 0.6608\n",
            "Epoch 13/100\n",
            "313/313 [==============================] - 7s 23ms/step - loss: 0.5934 - accuracy: 0.7006 - val_loss: 0.6152 - val_accuracy: 0.6646\n",
            "Epoch 14/100\n",
            "313/313 [==============================] - 7s 23ms/step - loss: 0.5833 - accuracy: 0.7039 - val_loss: 0.6080 - val_accuracy: 0.6700\n",
            "Epoch 15/100\n",
            "313/313 [==============================] - 7s 22ms/step - loss: 0.5745 - accuracy: 0.7097 - val_loss: 0.6019 - val_accuracy: 0.6746\n",
            "Epoch 16/100\n",
            "313/313 [==============================] - 7s 22ms/step - loss: 0.5658 - accuracy: 0.7178 - val_loss: 0.5955 - val_accuracy: 0.6812\n",
            "Epoch 17/100\n",
            "313/313 [==============================] - 7s 23ms/step - loss: 0.5577 - accuracy: 0.7192 - val_loss: 0.5922 - val_accuracy: 0.6840\n",
            "Epoch 18/100\n",
            "313/313 [==============================] - 7s 22ms/step - loss: 0.5501 - accuracy: 0.7232 - val_loss: 0.5883 - val_accuracy: 0.6874\n",
            "Epoch 19/100\n",
            "313/313 [==============================] - 7s 22ms/step - loss: 0.5425 - accuracy: 0.7275 - val_loss: 0.5823 - val_accuracy: 0.6964\n",
            "Epoch 20/100\n",
            "313/313 [==============================] - 7s 22ms/step - loss: 0.5351 - accuracy: 0.7339 - val_loss: 0.5762 - val_accuracy: 0.7020\n",
            "Epoch 21/100\n",
            "313/313 [==============================] - 7s 22ms/step - loss: 0.5293 - accuracy: 0.7383 - val_loss: 0.5764 - val_accuracy: 0.7032\n",
            "Epoch 22/100\n",
            "313/313 [==============================] - 7s 22ms/step - loss: 0.5230 - accuracy: 0.7422 - val_loss: 0.5696 - val_accuracy: 0.7072\n",
            "Epoch 23/100\n",
            "313/313 [==============================] - 7s 22ms/step - loss: 0.5188 - accuracy: 0.7473 - val_loss: 0.5664 - val_accuracy: 0.7076\n",
            "Epoch 24/100\n",
            "313/313 [==============================] - 7s 23ms/step - loss: 0.5140 - accuracy: 0.7522 - val_loss: 0.5718 - val_accuracy: 0.7072\n",
            "Epoch 25/100\n",
            "313/313 [==============================] - 7s 23ms/step - loss: 0.5096 - accuracy: 0.7554 - val_loss: 0.5617 - val_accuracy: 0.7096\n",
            "Epoch 26/100\n",
            "313/313 [==============================] - 7s 23ms/step - loss: 0.5069 - accuracy: 0.7566 - val_loss: 0.5666 - val_accuracy: 0.7064\n",
            "Epoch 27/100\n",
            "313/313 [==============================] - 7s 22ms/step - loss: 0.5035 - accuracy: 0.7591 - val_loss: 0.5583 - val_accuracy: 0.7162\n",
            "Epoch 28/100\n",
            "313/313 [==============================] - 7s 22ms/step - loss: 0.5000 - accuracy: 0.7611 - val_loss: 0.5559 - val_accuracy: 0.7180\n",
            "Epoch 29/100\n",
            "313/313 [==============================] - 7s 23ms/step - loss: 0.4974 - accuracy: 0.7659 - val_loss: 0.5547 - val_accuracy: 0.7212\n",
            "Epoch 30/100\n",
            "313/313 [==============================] - 7s 23ms/step - loss: 0.4949 - accuracy: 0.7684 - val_loss: 0.5538 - val_accuracy: 0.7186\n",
            "Epoch 31/100\n",
            "313/313 [==============================] - 7s 23ms/step - loss: 0.4926 - accuracy: 0.7681 - val_loss: 0.5556 - val_accuracy: 0.7162\n",
            "Epoch 32/100\n",
            "313/313 [==============================] - 7s 23ms/step - loss: 0.4909 - accuracy: 0.7708 - val_loss: 0.5561 - val_accuracy: 0.7202\n",
            "Epoch 33/100\n",
            "313/313 [==============================] - 7s 22ms/step - loss: 0.4884 - accuracy: 0.7721 - val_loss: 0.5523 - val_accuracy: 0.7210\n",
            "Epoch 34/100\n",
            "313/313 [==============================] - 7s 22ms/step - loss: 0.4852 - accuracy: 0.7758 - val_loss: 0.5653 - val_accuracy: 0.7114\n",
            "Epoch 35/100\n",
            "313/313 [==============================] - 7s 22ms/step - loss: 0.4838 - accuracy: 0.7739 - val_loss: 0.5643 - val_accuracy: 0.7086\n",
            "Epoch 36/100\n",
            "313/313 [==============================] - 7s 23ms/step - loss: 0.4818 - accuracy: 0.7760 - val_loss: 0.5573 - val_accuracy: 0.7142\n"
          ]
        }
      ],
      "source": [
        "rmsprop = keras.optimizers.RMSprop(learning_rate=1e-4)\n",
        "model2.compile(optimizer=rmsprop, loss='binary_crossentropy', \n",
        "               metrics=['accuracy'])\n",
        "\n",
        "checkpoint_cb = keras.callbacks.ModelCheckpoint('best-embedding-model.h5', \n",
        "                                                save_best_only=True)\n",
        "early_stopping_cb = keras.callbacks.EarlyStopping(patience=3,\n",
        "                                                  restore_best_weights=True)\n",
        "\n",
        "history = model2.fit(train_seq, train_target, epochs=100, batch_size=64,\n",
        "                     validation_data=(val_seq, val_target),\n",
        "                     callbacks=[checkpoint_cb, early_stopping_cb])"
      ]
    },
    {
      "cell_type": "code",
      "execution_count": 30,
      "metadata": {
        "colab": {
          "base_uri": "https://localhost:8080/",
          "height": 279
        },
        "id": "brUvKwLt6kQb",
        "outputId": "d0e6faa0-65c7-4572-b9ab-275147e7d179",
        "tags": []
      },
      "outputs": [
        {
          "output_type": "display_data",
          "data": {
            "text/plain": [
              "<Figure size 432x288 with 1 Axes>"
            ],
            "image/png": "[encoded data removed]"
          },
          "metadata": {
            "needs_background": "light"
          }
        }
      ],
      "source": [
        "plt.plot(history.history['loss'])\n",
        "plt.plot(history.history['val_loss'])\n",
        "plt.xlabel('epoch')\n",
        "plt.ylabel('loss')\n",
        "plt.legend(['train', 'val'])\n",
        "plt.show()"
      ]
    },
    {
      "cell_type": "code",
      "source": [
        ""
      ],
      "metadata": {
        "id": "6Z1RdtXpizS-"
      },
      "execution_count": 30,
      "outputs": []
    }
  ],
  "metadata": {
    "interpreter": {
      "hash": "a25cd9f89876bcf3e8ab9a11749a6ba312fc39ea63ca69d0587e322f28223b18"
    },
    "kernelspec": {
      "display_name": "Python 3.7.11 ('ds_study')",
      "language": "python",
      "name": "python3"
    },
    "language_info": {
      "codemirror_mode": {
        "name": "ipython",
        "version": 3
      },
      "file_extension": ".py",
      "mimetype": "text/x-python",
      "name": "python",
      "nbconvert_exporter": "python",
      "pygments_lexer": "ipython3",
      "version": "3.7.11"
    },
    "orig_nbformat": 4,
    "colab": {
      "name": "20.SimpleRNN_IMDB.ipynb",
      "provenance": []
    }
  },
  "nbformat": 4,
  "nbformat_minor": 0
}